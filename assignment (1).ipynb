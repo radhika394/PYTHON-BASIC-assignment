{
  "nbformat": 4,
  "nbformat_minor": 0,
  "metadata": {
    "colab": {
      "provenance": []
    },
    "kernelspec": {
      "name": "python3",
      "display_name": "Python 3"
    },
    "language_info": {
      "name": "python"
    }
  },
  "cells": [
    {
      "cell_type": "markdown",
      "source": [
        "**THEORITICAL QUESTIONS** :\n",
        "\n",
        "---\n",
        "\n"
      ],
      "metadata": {
        "id": "Z3S1CnI2lPyQ"
      }
    },
    {
      "cell_type": "markdown",
      "source": [
        "1) *What is Python, and why is it popular?*\n",
        "\n",
        "ANS: Python is a popular and high level programming language which is widely used in all platforms as it serves all purposes\n",
        "it is popular because it has the following qualities:\n",
        ", general purpose language\n",
        ",automation,image processing ability\n",
        ",databases\n",
        ",easy to learn and versatile\n",
        ",huge active community\n",
        "\n",
        "---\n",
        "\n"
      ],
      "metadata": {
        "id": "nNyL6m83lctp"
      }
    },
    {
      "cell_type": "markdown",
      "source": [
        "2. *What is an interpreter in Python ?*\n",
        "\n",
        "ANS: the interpreter in python translates and executes the code line by line during run time\n",
        "\n",
        "---\n",
        "\n"
      ],
      "metadata": {
        "id": "WCm82QVWnZyC"
      }
    },
    {
      "cell_type": "markdown",
      "source": [
        "*3.What are pre-defined keywords in Python?*\n",
        "\n",
        "ANS: pre-defined keywords in python are a set of words which are already reserved in the system and serve their unique and specific purposes while programming or coding. these words should not be used as variables to store other values.\n",
        "\n",
        "---\n",
        "\n"
      ],
      "metadata": {
        "id": "YtpTytbHoPph"
      }
    },
    {
      "cell_type": "markdown",
      "source": [
        "4.*Can keywords be used as variable names ?*\n",
        "\n",
        "ANS: even though keywords can be used as variable names it should not be used because of their reserved functionings. if used by chance then the system has to be refreshed before a new program\n",
        "\n",
        "---\n",
        "\n"
      ],
      "metadata": {
        "id": "5IW62kFZpyjT"
      }
    },
    {
      "cell_type": "markdown",
      "source": [
        " 5. *What is mutability in Python?*\n",
        "\n",
        " ANS: the concept of mutability means to change or replace a certain element with another. however it should be noted that elements under a list format can only be mutable. string elements do not support item assignment therefore they are immutable.\n",
        "\n",
        "---\n",
        "\n"
      ],
      "metadata": {
        "id": "65sDgY9Wq3UA"
      }
    },
    {
      "cell_type": "markdown",
      "source": [
        "*6.  Why are lists mutable, but tuples are immutable ?*\n",
        "\n",
        "ANS: Lists are mutable because you can change their elements after creation. Tuples are immutable because you cannot change their elements after creation.\n",
        "\n",
        "\n",
        "\n",
        "---\n",
        "\n"
      ],
      "metadata": {
        "id": "xV_Sdbj9r1HT"
      }
    },
    {
      "cell_type": "markdown",
      "source": [
        "*7. What is the difference between “==” and “is” operators in Python ?*\n",
        "\n",
        "ANS: The == operator compares the values of two objects to check if they are equal.\n",
        "The \"is\" operator compares the identity of two objects to check if they refer to the same object in memory\n",
        "\n",
        "---\n",
        "\n"
      ],
      "metadata": {
        "id": "a6DsF8sSskuy"
      }
    },
    {
      "cell_type": "markdown",
      "source": [
        "8.  *What are logical operators in Python ?*\n",
        "\n",
        "ANS: logical operators are \"and\" & \"or\" in python. these work on the principal of the keywords \"true\" and \"false\" which already have the assigned values 1 and 0 respectively.\n",
        "\n",
        "---\n",
        "\n"
      ],
      "metadata": {
        "id": "xAI8CleZtTgJ"
      }
    },
    {
      "cell_type": "markdown",
      "source": [
        "9. *What is type casting in Python ?*\n",
        "\n",
        "ANS: it is the process of changing the data type of a value or object because while executing or computing using operators, there can be mismatch between objects.\n",
        "\n",
        "---\n",
        "\n"
      ],
      "metadata": {
        "id": "J6KqVxlkuXO0"
      }
    },
    {
      "cell_type": "markdown",
      "source": [
        "*10. What is the difference between implicit and explicit type casting?*\n",
        "\n",
        "ANS: implicit casting: Python changes data types automatically. Explicit casting: You tell Python to change the type using functions. Implicit is automatic conversion (e.g., int to float). Explicit is manual conversion (e.g., int(\"5\")).\n",
        "\n",
        "---\n",
        "\n"
      ],
      "metadata": {
        "id": "DzWuLR1lu-ET"
      }
    },
    {
      "cell_type": "markdown",
      "source": [
        "*11. What is the purpose of conditional statements in Python ?*\n",
        "\n",
        "ANS: conditionals help to make and code decisions based on some predictions by implementing logic in the program.\n",
        "\n",
        "---\n",
        "\n"
      ],
      "metadata": {
        "id": "Vzmb9Fu_v0T-"
      }
    },
    {
      "cell_type": "markdown",
      "source": [
        "12. *How does the elif statement work ?*\n",
        "\n",
        "ANS: elif statement works when there are multiple conditions. the program will first check all the elif statements then jump to the else statement if the original \"if\" statement is nott true.\n",
        "\n",
        "---\n",
        "\n"
      ],
      "metadata": {
        "id": "yjc07OTXvyFS"
      }
    },
    {
      "cell_type": "markdown",
      "source": [
        "13. *What is the difference between for and while loops ?*\n",
        "\n",
        "ANS: For loops are typically used when you know the number of inputs beforehand, while while loops are used when the number of inputs is unknown and depends on a condition.\n",
        "\n",
        "---\n",
        "\n"
      ],
      "metadata": {
        "id": "Z9qUhbaVuSTB"
      }
    },
    {
      "cell_type": "markdown",
      "source": [
        "**PRACTICAL QUESTIONS:**\n",
        "\n",
        "---\n",
        "\n"
      ],
      "metadata": {
        "id": "ouAO7ujKiweD"
      }
    },
    {
      "cell_type": "code",
      "execution_count": null,
      "metadata": {
        "colab": {
          "base_uri": "https://localhost:8080/"
        },
        "id": "AH-oBtu7RdQt",
        "outputId": "02667ba9-f7f4-4bf1-b44c-020dc202d11d"
      },
      "outputs": [
        {
          "output_type": "stream",
          "name": "stdout",
          "text": [
            "Hello, World!\n"
          ]
        }
      ],
      "source": [
        "# 1) write a Python program to print \"Hello, World!\"\n",
        "\n",
        "print(\"Hello, World!\")"
      ]
    },
    {
      "cell_type": "code",
      "source": [
        "\n",
        "# 2) Write a python program that displays your name and age\n",
        "\n",
        "name=\"radhika\"\n",
        "age=18\n",
        "name\n",
        "age\n"
      ],
      "metadata": {
        "colab": {
          "base_uri": "https://localhost:8080/"
        },
        "id": "0X1lHuiiTKoW",
        "outputId": "01cb830e-2891-4d5b-c315-65d548f30d8b"
      },
      "execution_count": null,
      "outputs": [
        {
          "output_type": "execute_result",
          "data": {
            "text/plain": [
              "18"
            ]
          },
          "metadata": {},
          "execution_count": 45
        }
      ]
    },
    {
      "cell_type": "code",
      "source": [
        "# 3) Write code to print all the pre-defined keywords in Python using the keyword library\n",
        "\n",
        "import keyword\n",
        "print(keyword.kwlist)"
      ],
      "metadata": {
        "colab": {
          "base_uri": "https://localhost:8080/"
        },
        "id": "QZ-Y42OhUaOb",
        "outputId": "62158328-e83d-4963-c66a-3195b286a048"
      },
      "execution_count": null,
      "outputs": [
        {
          "output_type": "stream",
          "name": "stdout",
          "text": [
            "['False', 'None', 'True', 'and', 'as', 'assert', 'async', 'await', 'break', 'class', 'continue', 'def', 'del', 'elif', 'else', 'except', 'finally', 'for', 'from', 'global', 'if', 'import', 'in', 'is', 'lambda', 'nonlocal', 'not', 'or', 'pass', 'raise', 'return', 'try', 'while', 'with', 'yield']\n"
          ]
        }
      ]
    },
    {
      "cell_type": "code",
      "source": [
        "# 4) Write a program that checks if a given word is a Python keyword.\n",
        "\n",
        "import keyword\n",
        "a=input(\"enter word: \")\n",
        "if keyword.iskeyword(a):\n",
        "       print(\"it is a keyword\")\n",
        "else:\n",
        "       print(\"it is not a keyword\")"
      ],
      "metadata": {
        "colab": {
          "base_uri": "https://localhost:8080/"
        },
        "id": "mOh7_297XAiW",
        "outputId": "b6141bae-8140-4a25-871f-766783b4dfa4"
      },
      "execution_count": null,
      "outputs": [
        {
          "output_type": "stream",
          "name": "stdout",
          "text": [
            "enter word: as\n",
            "it is a keyword\n"
          ]
        }
      ]
    },
    {
      "cell_type": "code",
      "source": [
        "#5) Create a list and tuple in Python, and demonstrate how attempting to change an element works differently\n",
        "#for each.\n",
        "\n",
        "\n"
      ],
      "metadata": {
        "id": "qc3kWjkMoHkl"
      },
      "execution_count": null,
      "outputs": []
    },
    {
      "cell_type": "code",
      "source": [
        "# 6) Write a function to demonstrate the behavior of mutable and immutable arguments.\n",
        "\n",
        "\n",
        "b=\"radha\"\n",
        "b[1]=\"radhika\"\n",
        "b\n",
        "#the string is an immutable object"
      ],
      "metadata": {
        "colab": {
          "base_uri": "https://localhost:8080/",
          "height": 211
        },
        "id": "fhFTaohkYtUX",
        "outputId": "caa4ecfd-50ca-4cbd-a174-5c668d69e934"
      },
      "execution_count": null,
      "outputs": [
        {
          "output_type": "error",
          "ename": "TypeError",
          "evalue": "'str' object does not support item assignment",
          "traceback": [
            "\u001b[0;31m---------------------------------------------------------------------------\u001b[0m",
            "\u001b[0;31mTypeError\u001b[0m                                 Traceback (most recent call last)",
            "\u001b[0;32m/tmp/ipython-input-4193298854.py\u001b[0m in \u001b[0;36m<cell line: 0>\u001b[0;34m()\u001b[0m\n\u001b[1;32m      3\u001b[0m \u001b[0;34m\u001b[0m\u001b[0m\n\u001b[1;32m      4\u001b[0m \u001b[0mb\u001b[0m\u001b[0;34m=\u001b[0m\u001b[0;34m\"radha\"\u001b[0m\u001b[0;34m\u001b[0m\u001b[0;34m\u001b[0m\u001b[0m\n\u001b[0;32m----> 5\u001b[0;31m \u001b[0mb\u001b[0m\u001b[0;34m[\u001b[0m\u001b[0;36m1\u001b[0m\u001b[0;34m]\u001b[0m\u001b[0;34m=\u001b[0m\u001b[0;34m\"radhika\"\u001b[0m\u001b[0;34m\u001b[0m\u001b[0;34m\u001b[0m\u001b[0m\n\u001b[0m\u001b[1;32m      6\u001b[0m \u001b[0mb\u001b[0m\u001b[0;34m\u001b[0m\u001b[0;34m\u001b[0m\u001b[0m\n\u001b[1;32m      7\u001b[0m \u001b[0;31m#the string is an immutable object\u001b[0m\u001b[0;34m\u001b[0m\u001b[0;34m\u001b[0m\u001b[0m\n",
            "\u001b[0;31mTypeError\u001b[0m: 'str' object does not support item assignment"
          ]
        }
      ]
    },
    {
      "cell_type": "code",
      "source": [
        "c=[1,2,3,\"radhika\",4]\n",
        "c[3]=\"radha\"\n",
        "c\n",
        "# list is a mutable object"
      ],
      "metadata": {
        "colab": {
          "base_uri": "https://localhost:8080/"
        },
        "id": "xxvrmnYRoW7K",
        "outputId": "4b3da7ee-b58c-4e5e-e476-2788f9014214"
      },
      "execution_count": null,
      "outputs": [
        {
          "output_type": "execute_result",
          "data": {
            "text/plain": [
              "[1, 2, 3, 'radha', 4]"
            ]
          },
          "metadata": {},
          "execution_count": 20
        }
      ]
    },
    {
      "cell_type": "code",
      "source": [
        "# 7) Write a program that performs basic arithmetic operations on two user-input numbers\n",
        "\n",
        "b=int(input(\"enter 1st number\"))\n",
        "c=int(input(\"enter 2nd number\"))\n",
        "d=b+c\n",
        "print(\"sum=\")\n",
        "d\n"
      ],
      "metadata": {
        "colab": {
          "base_uri": "https://localhost:8080/"
        },
        "id": "Dai2P9mbaf4L",
        "outputId": "d6dc032c-cf37-44e8-afb7-2da60aa6a441"
      },
      "execution_count": null,
      "outputs": [
        {
          "output_type": "stream",
          "name": "stdout",
          "text": [
            "enter 1st number5\n",
            "enter 2nd number6\n",
            "sum=\n"
          ]
        },
        {
          "output_type": "execute_result",
          "data": {
            "text/plain": [
              "11"
            ]
          },
          "metadata": {},
          "execution_count": 15
        }
      ]
    },
    {
      "cell_type": "code",
      "source": [
        "# 8) Write a program to demonstrate the use of logical operators\n",
        "\n",
        "age=18\n",
        "has_license=False\n",
        "if age>=18 and has_license:\n",
        "    print(\"you are eligible to drive\")\n",
        "else:\n",
        "    print(\"you are not eligible to drive\")"
      ],
      "metadata": {
        "colab": {
          "base_uri": "https://localhost:8080/"
        },
        "id": "LXHDLpgaoCs8",
        "outputId": "5cd03307-2a38-43b3-b3d3-fdd4fb05eef4"
      },
      "execution_count": null,
      "outputs": [
        {
          "output_type": "stream",
          "name": "stdout",
          "text": [
            "you are not eligible to drive\n"
          ]
        }
      ]
    },
    {
      "cell_type": "code",
      "source": [
        "# 9) Write a Python program to convert user input from string to integer, float, and boolean types.\n",
        "\n",
        "#string to integer:\n",
        "a=input(\"enter a number:\")\n",
        "b=input(\"enter another number:\")\n",
        "print(\"sum of two numbers:\")\n",
        "int(a)+int(b)\n",
        "\n",
        "\n"
      ],
      "metadata": {
        "colab": {
          "base_uri": "https://localhost:8080/"
        },
        "id": "-UIwTXr3r-eZ",
        "outputId": "a544f014-8203-4999-f5f4-555321cd80e3"
      },
      "execution_count": null,
      "outputs": [
        {
          "output_type": "stream",
          "name": "stdout",
          "text": [
            "enter a number:3\n",
            "enter another number:5\n",
            "sum of two numbers:\n"
          ]
        },
        {
          "output_type": "execute_result",
          "data": {
            "text/plain": [
              "8"
            ]
          },
          "metadata": {},
          "execution_count": 3
        }
      ]
    },
    {
      "cell_type": "code",
      "source": [
        "#string to float:\n",
        "a=input(\"enter a number:\")\n",
        "print(\"your number as a decimal value is:\")\n",
        "float(a)\n",
        "\n",
        "\n"
      ],
      "metadata": {
        "colab": {
          "base_uri": "https://localhost:8080/"
        },
        "id": "PDUz21j8Z__L",
        "outputId": "8d83e43f-b273-4a33-a6d0-b53ebf34d787"
      },
      "execution_count": null,
      "outputs": [
        {
          "output_type": "stream",
          "name": "stdout",
          "text": [
            "enter a number:6\n",
            "your number as a decimal value is:\n"
          ]
        },
        {
          "output_type": "execute_result",
          "data": {
            "text/plain": [
              "6.0"
            ]
          },
          "metadata": {},
          "execution_count": 12
        }
      ]
    },
    {
      "cell_type": "code",
      "source": [
        "#integer to boolean:\n",
        "a=int(input(\"enter a number:\"))\n",
        "print(\"your number as a boolean value is:\");bool(a)\n"
      ],
      "metadata": {
        "colab": {
          "base_uri": "https://localhost:8080/"
        },
        "id": "gn7Bgt1cbjLy",
        "outputId": "0824b883-31ab-4e69-fa2b-ea1e7253679d"
      },
      "execution_count": null,
      "outputs": [
        {
          "output_type": "stream",
          "name": "stdout",
          "text": [
            "enter a number:6\n",
            "your number as a boolean value is:\n"
          ]
        },
        {
          "output_type": "execute_result",
          "data": {
            "text/plain": [
              "True"
            ]
          },
          "metadata": {},
          "execution_count": 22
        }
      ]
    },
    {
      "cell_type": "code",
      "source": [
        "# 10) Write code to demonstrate type casting with list elements.\n",
        "\n",
        "score=[23,39,43,56]\n",
        "a=score[3]\n",
        "print(\"the score as a decimal is:\")\n",
        "float(a)\n",
        "\n",
        "\n",
        "\n"
      ],
      "metadata": {
        "colab": {
          "base_uri": "https://localhost:8080/"
        },
        "id": "JPiJwD1pdOHv",
        "outputId": "d2d381cd-6334-4ad8-aef1-07f1ea918b80"
      },
      "execution_count": null,
      "outputs": [
        {
          "output_type": "stream",
          "name": "stdout",
          "text": [
            "the score as a decimal is:\n"
          ]
        },
        {
          "output_type": "execute_result",
          "data": {
            "text/plain": [
              "56.0"
            ]
          },
          "metadata": {},
          "execution_count": 32
        }
      ]
    },
    {
      "cell_type": "code",
      "source": [
        "# 11) Write a program that checks if a number is positive, negative, or zero.\n",
        "\n",
        "a=int(input(\"enter a number:\"))\n",
        "if a>0:\n",
        "  print(\"the number is positive\")\n",
        "elif a<0:\n",
        "    print(\"the number is negative\")\n",
        "else:\n",
        "      print(\"the number is zero\")"
      ],
      "metadata": {
        "colab": {
          "base_uri": "https://localhost:8080/"
        },
        "id": "AK6aA_-Nf9mS",
        "outputId": "c2910703-5cf7-4168-ef47-51acfff4d121"
      },
      "execution_count": null,
      "outputs": [
        {
          "output_type": "stream",
          "name": "stdout",
          "text": [
            "enter a number:8\n",
            "the number is positive\n"
          ]
        }
      ]
    },
    {
      "cell_type": "code",
      "source": [
        "# 12) write a for loop to print numbers between 1 to 10\n",
        "for i in range(1, 11):\n",
        "  print(i)"
      ],
      "metadata": {
        "colab": {
          "base_uri": "https://localhost:8080/"
        },
        "collapsed": true,
        "id": "xY7qPuRxjFIo",
        "outputId": "9907ee0f-12d5-4229-a20e-d12fca75555e"
      },
      "execution_count": null,
      "outputs": [
        {
          "output_type": "stream",
          "name": "stdout",
          "text": [
            "1\n",
            "2\n",
            "3\n",
            "4\n",
            "5\n",
            "6\n",
            "7\n",
            "8\n",
            "9\n",
            "10\n"
          ]
        }
      ]
    },
    {
      "cell_type": "code",
      "source": [
        "# 13)  Write a Python program to find the sum of all even numbers between 1 and 50.\n",
        "\n",
        "sum_even = 0\n",
        "for number in range(1, 51):\n",
        "  if number % 2 == 0:\n",
        "    sum_even += number\n",
        "\n",
        "print(\"The sum of even numbers between 1 and 50 is:\")\n",
        "sum_even"
      ],
      "metadata": {
        "colab": {
          "base_uri": "https://localhost:8080/"
        },
        "id": "wf6dydpgkHxT",
        "outputId": "e38a9b01-0bdd-4fd4-f4c7-23f2b471034d"
      },
      "execution_count": null,
      "outputs": [
        {
          "output_type": "stream",
          "name": "stdout",
          "text": [
            "The sum of even numbers between 1 and 50 is:\n"
          ]
        },
        {
          "output_type": "execute_result",
          "data": {
            "text/plain": [
              "650"
            ]
          },
          "metadata": {},
          "execution_count": 49
        }
      ]
    },
    {
      "cell_type": "code",
      "source": [],
      "metadata": {
        "id": "9f1Vyd3skQR1"
      },
      "execution_count": null,
      "outputs": []
    }
  ]
}